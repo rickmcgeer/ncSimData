{
 "cells": [
  {
   "cell_type": "code",
   "execution_count": 43,
   "metadata": {},
   "outputs": [
    {
     "data": {
      "text/plain": [
       "[['Category',\n",
       "  'Field',\n",
       "  'Adjustable',\n",
       "  'Initial Seed',\n",
       "  'Variance',\n",
       "  'Max Daily Growth',\n",
       "  'Min Daily Growth'],\n",
       " ['Health', 'Chronic disease claim data', 'FALSE', '40', '4', '0.03', '-0.01'],\n",
       " ['Health', 'Socioeconomic census data', 'FALSE', '20', '5', '0', '0'],\n",
       " ['Health', 'Other demographic data', 'FALSE', '40', '3', '0', '0'],\n",
       " ['Health', 'Density', 'FALSE', '30', '7', '0.01', '-0.03'],\n",
       " ['Health', 'Comorbidity', 'FALSE', '40', '3', '0.03', '-0.05'],\n",
       " ['Health', 'Chronic Disease', 'FALSE', '40', '4', '0.03', '-0.01'],\n",
       " ['Capacity of Care', 'Available Beds', 'TRUE', '25', '8', '0.02', '0'],\n",
       " ['Capacity of Care',\n",
       "  'Convertible Bed Capacity',\n",
       "  'TRUE',\n",
       "  '28',\n",
       "  '10',\n",
       "  '0.1',\n",
       "  '0'],\n",
       " ['Capacity of Care',\n",
       "  'Trained Health workers',\n",
       "  'TRUE',\n",
       "  '22',\n",
       "  '4',\n",
       "  '0.02',\n",
       "  '0']]"
      ]
     },
     "execution_count": 43,
     "metadata": {},
     "output_type": "execute_result"
    }
   ],
   "source": [
    "f = open('seed.csv', 'r')\n",
    "raw_lines = f.readlines()\n",
    "f.close()\n",
    "lines = [line[:-1] for line in raw_lines[:-1]] + [raw_lines[-1]]\n",
    "records = [line.split(',') for line in lines]\n",
    "records[:10]"
   ]
  },
  {
   "cell_type": "code",
   "execution_count": 44,
   "metadata": {},
   "outputs": [],
   "source": [
    "categories = set([r[0] for r in records[:1]])"
   ]
  },
  {
   "cell_type": "code",
   "execution_count": 45,
   "metadata": {},
   "outputs": [],
   "source": [
    "import random\n",
    "class Factor:\n",
    "    def __init__(self, record):\n",
    "        self.category = record[0]\n",
    "        self.name = record[1]\n",
    "        self.editable = (record[2] == 'TRUE')\n",
    "        self.initial_seed = float(record[3])\n",
    "        self.variance = float(record[4])\n",
    "        self.max_growth = float(record[5])\n",
    "        self.min_growth = float(record[6])\n",
    "    \n",
    "    def generate_series(self, nDays):\n",
    "        current = random.gauss(self.initial_seed, self.variance)\n",
    "        result = [current]\n",
    "        for i in range(nDays - 1):\n",
    "            current = current * (1 + random.uniform(self.min_growth, self.max_growth))\n",
    "            current = max(5, min(95, current))\n",
    "            result.append(current)\n",
    "        result = [round(x, 3) for x in result]\n",
    "        self.series = result\n",
    "        return result\n",
    "    \n",
    "    def record(self):\n",
    "        return {\"name\": self.name, \"editable\": self.editable, \"weight\": 1}"
   ]
  },
  {
   "cell_type": "code",
   "execution_count": 46,
   "metadata": {},
   "outputs": [],
   "source": [
    "factors = [Factor(record) for record in records[1:]]"
   ]
  },
  {
   "cell_type": "code",
   "execution_count": 47,
   "metadata": {},
   "outputs": [
    {
     "data": {
      "text/plain": [
       "['Date',\n",
       " 'Chronic disease claim data',\n",
       " 'Socioeconomic census data',\n",
       " 'Other demographic data',\n",
       " 'Density',\n",
       " 'Comorbidity',\n",
       " 'Chronic Disease',\n",
       " 'Available Beds',\n",
       " 'Convertible Bed Capacity',\n",
       " 'Trained Health workers',\n",
       " 'PPE Supply',\n",
       " 'Testing capacity',\n",
       " 'Ventilators',\n",
       " 'Temp/humidity',\n",
       " 'Mobility/Activity',\n",
       " 'Green Space per Person',\n",
       " 'PM 2.5 concentration',\n",
       " 'PPE Usage',\n",
       " 'Social Listening',\n",
       " 'Cable News Viewership',\n",
       " 'Talk Radio Penetration',\n",
       " 'Tabloid Sales',\n",
       " 'Political Affiliation',\n",
       " 'Occupational risk score',\n",
       " 'Commercial Density',\n",
       " 'Tourism Propensity',\n",
       " 'Entertainment ',\n",
       " 'Church attendance',\n",
       " 'Unemployment rate',\n",
       " 'Environmental',\n",
       " 'Capacity of Care',\n",
       " 'Health',\n",
       " 'Behavioral',\n",
       " 'Industrial',\n",
       " 'Overall']"
      ]
     },
     "execution_count": 47,
     "metadata": {},
     "output_type": "execute_result"
    }
   ],
   "source": [
    "categories = set([factor.category for factor in factors])\n",
    "category_list = list(categories)\n",
    "category_dict = {}\n",
    "column_dict = {}\n",
    "headers = ['Date'] + [factor.name for factor in factors] + category_list + ['Overall']\n",
    "for category in categories:\n",
    "    category_dict[category] = []\n",
    "    column_dict[category] = []\n",
    "\n",
    "headers\n"
   ]
  },
  {
   "cell_type": "code",
   "execution_count": 48,
   "metadata": {},
   "outputs": [],
   "source": [
    "class Category:\n",
    "    def __init__(self, name, columns):\n",
    "        self.name = name\n",
    "        self.columns = columns\n",
    "        \n",
    "    def get_day(self, factors, day_num):\n",
    "        values = [factor[day_num] for factor in factors]\n",
    "        return round(sum(values)/len(values), 3)\n",
    "    \n",
    "    def generate_series(self, factors):\n",
    "        column_set = self.columns\n",
    "        num_days = len(factors[0].series)\n",
    "        contributing_factors = [factors[i].series for i in range(len(factors)) if i in column_set]\n",
    "        self.series = [self.get_day(contributing_factors, day) for day in range(num_days)]\n"
   ]
  },
  {
   "cell_type": "code",
   "execution_count": 49,
   "metadata": {},
   "outputs": [],
   "source": [
    "bad = []\n",
    "for factor in factors:\n",
    "    try:\n",
    "        category_dict[factor.category].append(factor.name)\n",
    "        column_dict[factor.category].append(headers.index(factor.name))\n",
    "    except Error:\n",
    "        bad.append(factor)"
   ]
  },
  {
   "cell_type": "code",
   "execution_count": 50,
   "metadata": {},
   "outputs": [],
   "source": [
    "category_class_list = [Category(category, column_dict[category]) for category in category_list]"
   ]
  },
  {
   "cell_type": "code",
   "execution_count": 51,
   "metadata": {},
   "outputs": [],
   "source": [
    "def generate_record(date, n):\n",
    "    category_values = [categoryClass.series[n] for categoryClass in category_class_list]\n",
    "    return [date] + [factor.series[n] for factor in factors] + category_values + [round(sum(category_values)/len(category_values), 2)]"
   ]
  },
  {
   "cell_type": "code",
   "execution_count": 52,
   "metadata": {},
   "outputs": [],
   "source": [
    "def generate_date(first_month, first_day, day_num):\n",
    "    day_of_year = [1, 32, 61, 92, 122, 153, 183, 214, 245, 275, 306, 336]\n",
    "    day_of_sequence_start = day_of_year[first_month - 1] + first_day - 1\n",
    "    day_to_gen = day_of_sequence_start + day_num # sequence is 0-based, so first day is day 0\n",
    "    months_in_past = [day for day in day_of_year if day <= day_to_gen]\n",
    "    month_num = len(months_in_past)\n",
    "    day_in_month = day_to_gen + 1 - months_in_past[-1]\n",
    "    return '%02d-%02d' % (month_num, day_in_month)"
   ]
  },
  {
   "cell_type": "code",
   "execution_count": 53,
   "metadata": {},
   "outputs": [],
   "source": [
    "county_names = ['Alamance', 'Alexander', 'Alleghany', 'Anson', 'Ashe', 'Avery', 'Beaufort', 'Bertie', 'Bladen', 'Brunswick', 'Buncombe', 'Burke', 'Cabarrus', 'Caldwell', 'Camden', 'Carteret', 'Caswell', 'Catawba', 'Chatham', 'Cherokee', 'Chowan', 'Clay', 'Cleveland', 'Columbus', 'Craven', 'Cumberland', 'Currituck', 'Dare', 'Davidson', 'Davie', 'Duplin', 'Durham', 'Edgecombe', 'Forsyth', 'Franklin', 'Gaston', 'Gates', 'Graham', 'Granville', 'Greene', 'Guilford', 'Halifax', 'Harnett', 'Haywood', 'Henderson', 'Hertford', 'Hoke', 'Hyde', 'Iredell', 'Jackson', 'Johnston', 'Jones', 'Lee', 'Lenoir', 'Lincoln', 'Macon', 'Madison', 'Martin', 'McDowell', 'Mecklenburg', 'Mitchell', 'Montgomery', 'Moore', 'Nash', 'New Hanover', 'Northampton', 'Onslow', 'Orange', 'Pamlico', 'Pasquotank', 'Pender', 'Perquimans', 'Person', 'Pitt', 'Polk', 'Randolph', 'Richmond', 'Robeson', 'Rockingham', 'Rowan', 'Rutherford', 'Sampson', 'Scotland', 'Stanly', 'Stokes', 'Surry', 'Swain', 'Transylvania', 'Tyrrell', 'Union', 'Vance', 'Wake', 'Warren', 'Washington', 'Watauga', 'Wayne', 'Wilkes', 'Wilson', 'Yadkin', 'Yancey']"
   ]
  },
  {
   "cell_type": "code",
   "execution_count": 54,
   "metadata": {},
   "outputs": [],
   "source": [
    "class County:\n",
    "    def __init__(self, name):\n",
    "        self.name = name\n",
    "    \n",
    "    def gen_records(self, first_month, first_day, num_days):\n",
    "        result = [headers[:]]\n",
    "        for factor in factors: factor.generate_series(num_days)\n",
    "        for category_class in category_class_list: category_class.generate_series(factors)\n",
    "        for day in range(num_days):\n",
    "            date = generate_date(first_month, first_day, day)\n",
    "            result.append(generate_record(date, day))\n",
    "        self.records = result\n",
    "    \n",
    "    def check_records(self):\n",
    "        length = len(self.records[0])\n",
    "        bad = [record for record in self.records if len(record) != length]\n",
    "        return bad\n",
    "    \n",
    "    def county_record(self):\n",
    "        return {\"name\": self.name, \"records\": self.records}"
   ]
  },
  {
   "cell_type": "code",
   "execution_count": 55,
   "metadata": {},
   "outputs": [],
   "source": [
    "counties = [County(name) for name in county_names]"
   ]
  },
  {
   "cell_type": "code",
   "execution_count": 56,
   "metadata": {},
   "outputs": [],
   "source": [
    "for county in counties: county.gen_records(7, 1, 62)"
   ]
  },
  {
   "cell_type": "code",
   "execution_count": 57,
   "metadata": {},
   "outputs": [],
   "source": [
    "bad = [county.check_records() for county in counties]"
   ]
  },
  {
   "cell_type": "code",
   "execution_count": 58,
   "metadata": {},
   "outputs": [
    {
     "data": {
      "text/plain": [
       "0"
      ]
     },
     "execution_count": 58,
     "metadata": {},
     "output_type": "execute_result"
    }
   ],
   "source": [
    "len([b for b in bad if len(b) > 0])"
   ]
  },
  {
   "cell_type": "code",
   "execution_count": 59,
   "metadata": {},
   "outputs": [],
   "source": [
    "def category_record():\n",
    "    result = {}\n",
    "    for category in category_dict:\n",
    "        result[category] = {\"factors\": category_dict[category], \"weight\": 1}\n",
    "    return result\n",
    "        "
   ]
  },
  {
   "cell_type": "code",
   "execution_count": 60,
   "metadata": {},
   "outputs": [],
   "source": [
    "import json\n",
    "data_record = {\"categories\": category_record(), \"factors\": [factor.record() for factor in factors], \"records\":[county.county_record() for county in counties]}\n",
    "result = json.dumps(data_record)\n",
    "f = open('county_data.json', 'w')\n",
    "f.write(result)\n",
    "f.write('\\n')\n",
    "f.close()"
   ]
  },
  {
   "cell_type": "code",
   "execution_count": null,
   "metadata": {},
   "outputs": [],
   "source": []
  }
 ],
 "metadata": {
  "kernelspec": {
   "display_name": "Python 3",
   "language": "python",
   "name": "python3"
  },
  "language_info": {
   "codemirror_mode": {
    "name": "ipython",
    "version": 3
   },
   "file_extension": ".py",
   "mimetype": "text/x-python",
   "name": "python",
   "nbconvert_exporter": "python",
   "pygments_lexer": "ipython3",
   "version": "3.7.3"
  }
 },
 "nbformat": 4,
 "nbformat_minor": 4
}
